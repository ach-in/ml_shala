{
  "nbformat": 4,
  "nbformat_minor": 0,
  "metadata": {
    "colab": {
      "name": "Assignment -1 - DS.ipynb",
      "provenance": [],
      "collapsed_sections": []
    },
    "kernelspec": {
      "name": "python3",
      "display_name": "Python 3"
    }
  },
  "cells": [
    {
      "cell_type": "markdown",
      "metadata": {
        "id": "hmr2U-GChnlR",
        "colab_type": "text"
      },
      "source": [
        "\n",
        "# **Assignment - 1 : Getting Started**\n",
        "\n",
        "---\n",
        "\n",
        "This assignment will get you familiarized with python libraries required for ***data science*** and ***machine learning***. You will have to complete the code snippets and run them. "
      ]
    },
    {
      "cell_type": "markdown",
      "metadata": {
        "id": "211pD45xEO0u",
        "colab_type": "text"
      },
      "source": [
        "## **Note :**   Use only the methods and attributes of the ```numpy``` library. **Do not** hard-code them. Avoid loops as much as possible."
      ]
    },
    {
      "cell_type": "markdown",
      "metadata": {
        "id": "O7v9C4mun3SQ",
        "colab_type": "text"
      },
      "source": [
        "---\n",
        "## Part - 1\n",
        " In this part, you will work with the library ```numpy```. \n",
        "\n",
        "\n"
      ]
    },
    {
      "cell_type": "markdown",
      "metadata": {
        "id": "846yDaXQwiMD",
        "colab_type": "text"
      },
      "source": [
        "Import ```numpy``` with an alias name ```np```. Initialize two arrays $a$, $b$ of size $3 \\times 5$ with random values and print them. "
      ]
    },
    {
      "cell_type": "code",
      "metadata": {
        "id": "_MyeCO3_o3oq",
        "colab_type": "code",
        "outputId": "8b555e74-765f-43ee-b2b2-0fc40a4b04ac",
        "colab": {
          "base_uri": "https://localhost:8080/",
          "height": 119
        }
      },
      "source": [
        "import numpy as np\n",
        "a = np.random.random((3,5))\n",
        "b = np.random.random((3,5))\n",
        "print (a, \"\\n\", b)"
      ],
      "execution_count": 0,
      "outputs": [
        {
          "output_type": "stream",
          "text": [
            "[[0.22320962 0.9763014  0.20288127 0.62332067 0.84071878]\n",
            " [0.52873814 0.45673583 0.69533847 0.41962544 0.94242399]\n",
            " [0.03807619 0.29910931 0.6137381  0.76391685 0.67884613]] \n",
            " [[0.53127055 0.86415549 0.41502916 0.44325933 0.56880099]\n",
            " [0.8796828  0.51964823 0.64163537 0.79743028 0.39519008]\n",
            " [0.8343689  0.61799083 0.0708893  0.93801279 0.46280068]]\n"
          ],
          "name": "stdout"
        }
      ]
    },
    {
      "cell_type": "markdown",
      "metadata": {
        "id": "p7jtpYT4wiO6",
        "colab_type": "text"
      },
      "source": [
        "Initialize and print two arrays $c$ and $d$ having the following properties:\n",
        "*   $c$ is a row vector with all non-negative integer values less than 100\n",
        "* $d$ is a square matrix of size 3 having all entries as 0.0"
      ]
    },
    {
      "cell_type": "code",
      "metadata": {
        "id": "a2lJdRf8x9f2",
        "colab_type": "code",
        "colab": {}
      },
      "source": [
        "\n",
        "c = np.arange(0,100)\n",
        "d = np.zeros((3,3))\n",
        "# print (c , d)"
      ],
      "execution_count": 0,
      "outputs": []
    },
    {
      "cell_type": "markdown",
      "metadata": {
        "id": "qqgtSsa88Zmh",
        "colab_type": "text"
      },
      "source": [
        "We have $e$ as following : ```e = [[1,2,3],[4,5,6],[7,8,9]]```. Change $e$ as a numpy array and print it."
      ]
    },
    {
      "cell_type": "code",
      "metadata": {
        "id": "Krhm4bVE7RET",
        "colab_type": "code",
        "outputId": "4210c94f-02a0-4756-f6cf-59a30b4837f1",
        "colab": {
          "base_uri": "https://localhost:8080/",
          "height": 68
        }
      },
      "source": [
        "e = [[1,2,3],[4,5,6],[7,8,9]]\n",
        "\n",
        "e = np.array(e)\n",
        "print (e)"
      ],
      "execution_count": 0,
      "outputs": [
        {
          "output_type": "stream",
          "text": [
            "[[1 2 3]\n",
            " [4 5 6]\n",
            " [7 8 9]]\n"
          ],
          "name": "stdout"
        }
      ]
    },
    {
      "cell_type": "markdown",
      "metadata": {
        "id": "1qTikI0foam9",
        "colab_type": "text"
      },
      "source": [
        "$f$ and $g$ are two square matrices of size 5 such that all the entries of $f$ are 1 and $g$ is an identity matrix. Initialize them and print them"
      ]
    },
    {
      "cell_type": "code",
      "metadata": {
        "id": "DvaLckI49aBV",
        "colab_type": "code",
        "outputId": "865ed978-5d92-418b-de3c-2bebd614ff92",
        "colab": {
          "base_uri": "https://localhost:8080/",
          "height": 187
        }
      },
      "source": [
        "f = np.ones( (5,5), dtype=int )\n",
        "g = np.eye(5)\n",
        "print(f)\n",
        "print (g)"
      ],
      "execution_count": 0,
      "outputs": [
        {
          "output_type": "stream",
          "text": [
            "[[1 1 1 1 1]\n",
            " [1 1 1 1 1]\n",
            " [1 1 1 1 1]\n",
            " [1 1 1 1 1]\n",
            " [1 1 1 1 1]]\n",
            "[[1. 0. 0. 0. 0.]\n",
            " [0. 1. 0. 0. 0.]\n",
            " [0. 0. 1. 0. 0.]\n",
            " [0. 0. 0. 1. 0.]\n",
            " [0. 0. 0. 0. 1.]]\n"
          ],
          "name": "stdout"
        }
      ]
    },
    {
      "cell_type": "markdown",
      "metadata": {
        "id": "gcBZAZibAKcg",
        "colab_type": "text"
      },
      "source": [
        "Reshape $c$ into a $10 \\times 10$ matrix and name it $h$. Now flatten $h$, call it $c^\\prime$ and print **YES** when the shapes of $c$ and $c^\\prime$ are same. Otherwise print **NO**."
      ]
    },
    {
      "cell_type": "code",
      "metadata": {
        "id": "I71vtO9bA9Pi",
        "colab_type": "code",
        "outputId": "140270e9-1de5-4e4f-822b-7b3e2bace1d7",
        "colab": {
          "base_uri": "https://localhost:8080/",
          "height": 88
        }
      },
      "source": [
        "h = c.reshape(10,10)\n",
        "if h == h.ravel():\n",
        "  print (\"YES\")\n",
        "else:\n",
        "  print (\"NO\")"
      ],
      "execution_count": 0,
      "outputs": [
        {
          "output_type": "stream",
          "text": [
            "NO\n"
          ],
          "name": "stdout"
        },
        {
          "output_type": "stream",
          "text": [
            "/usr/local/lib/python3.6/dist-packages/ipykernel_launcher.py:2: DeprecationWarning: elementwise comparison failed; this will raise an error in the future.\n",
            "  \n"
          ],
          "name": "stderr"
        }
      ]
    },
    {
      "cell_type": "markdown",
      "metadata": {
        "id": "8FrecDPiA-Bv",
        "colab_type": "text"
      },
      "source": [
        " Let $A$ denote a randomly initialized three dimensional matrix of shape (2,10,5). Transpose $A$, call it $A^\\prime$, such that its shape is (5,2,10) and print it."
      ]
    },
    {
      "cell_type": "code",
      "metadata": {
        "id": "VbOKqSm6Bkaq",
        "colab_type": "code",
        "outputId": "298e8da2-8437-4c6b-9a1f-42481cce746f",
        "colab": {
          "base_uri": "https://localhost:8080/",
          "height": 595
        }
      },
      "source": [
        "A = np.random.rand(2,10,5)\n",
        "print(np.transpose(A,(2, 0, 1)))\n"
      ],
      "execution_count": 0,
      "outputs": [
        {
          "output_type": "stream",
          "text": [
            "[[[4.72874572e-02 3.00107381e-01 8.44869853e-01 9.56912008e-01\n",
            "   3.38110209e-02 7.82494930e-01 1.96471945e-01 3.79983128e-01\n",
            "   2.28466696e-01 9.88174950e-01]\n",
            "  [6.09281169e-01 8.08129061e-01 2.93142877e-01 7.31151337e-01\n",
            "   3.87607390e-01 4.40951157e-01 5.48646693e-02 1.70096769e-01\n",
            "   3.43503323e-01 8.28836351e-01]]\n",
            "\n",
            " [[8.80720097e-01 7.26069168e-01 8.99292877e-01 9.20316288e-01\n",
            "   4.73068267e-01 3.63351416e-03 3.68163005e-01 3.06521370e-01\n",
            "   5.75331858e-02 8.51099836e-01]\n",
            "  [1.00644570e-01 4.49841938e-01 4.59141118e-01 1.87777371e-01\n",
            "   5.16962269e-01 5.01659856e-01 7.24905205e-01 5.09521955e-01\n",
            "   8.42261316e-02 5.06175245e-01]]\n",
            "\n",
            " [[5.25636043e-01 9.20223077e-01 9.35059965e-04 8.12663153e-01\n",
            "   4.83638085e-01 2.84612410e-01 7.93052434e-01 6.74336070e-01\n",
            "   5.99151191e-01 2.02510534e-01]\n",
            "  [2.65648019e-01 6.23207799e-01 4.16762900e-01 9.14949369e-01\n",
            "   2.38378830e-01 4.72111596e-01 4.21847528e-01 3.12992537e-02\n",
            "   9.10771759e-01 7.86867568e-01]]\n",
            "\n",
            " [[9.50964843e-01 2.85262332e-01 8.61840863e-01 4.13542977e-01\n",
            "   7.41420945e-02 9.92525630e-01 8.75117067e-01 5.15494782e-01\n",
            "   6.81552284e-01 5.40414176e-01]\n",
            "  [6.79972723e-01 8.80702176e-01 5.94845013e-01 9.82425593e-01\n",
            "   1.25580342e-01 8.81634761e-01 3.47073315e-01 1.69849741e-01\n",
            "   5.16953725e-01 8.20477596e-01]]\n",
            "\n",
            " [[7.51991741e-01 5.08460665e-01 8.12909238e-01 1.42679374e-01\n",
            "   7.05847787e-01 2.04740802e-01 8.46208195e-01 8.69978287e-01\n",
            "   7.28612257e-01 1.15429037e-01]\n",
            "  [3.66535122e-01 4.08312128e-01 7.80211208e-01 5.85079642e-02\n",
            "   7.93815135e-01 8.53629954e-05 9.49348107e-01 9.43425081e-01\n",
            "   9.55970120e-02 9.83393367e-01]]]\n"
          ],
          "name": "stdout"
        }
      ]
    },
    {
      "cell_type": "markdown",
      "metadata": {
        "id": "xR2zd-nkCani",
        "colab_type": "text"
      },
      "source": [
        "You have a matrix $X$ of size (10,5) filled with random values. Print the following :\n",
        "* Minimum value and index where it occured, for each column\n",
        "* Maximum value and the index where it occured, for each column\n",
        "* Minimum value and index where it occured, for each row\n",
        "* Maximum value and index where it occured, for each row\n",
        "* Minimum value and index where it occured, for the entire matrix\n",
        "* Maximum value and index where it occured, for the entire matrix"
      ]
    },
    {
      "cell_type": "code",
      "metadata": {
        "id": "FR2Wd4fWD_Og",
        "colab_type": "code",
        "outputId": "58cd29b0-d6d2-4c5e-9492-0cc730871980",
        "colab": {
          "base_uri": "https://localhost:8080/",
          "height": 343
        }
      },
      "source": [
        "np.random.seed(0)\n",
        "X = np.random.rand(10,5)\n",
        "# print(\"Minimum value and index where it occured, for each column =\", X)\n",
        "# ind1 =  X.argmin(axis=0)\n",
        "# print (ind1)\n",
        "print(X)\n",
        "print(\"Minimum value, for each column =\",X.min(axis=0), \"index where it occured\", X.argmin(axis=0))\n",
        "print(\"Maximum value and index where it occured, for each column =\",X.max(axis=0), \"index where it occured\", X.argmax(axis=0))\n",
        "print(\"Minimum value and index where it occured, for each row =\",X.min(axis=1), \"index where it occured\", X.argmin(axis=1))\n",
        "print(\"Maximum value and index where it occured, for each row =\",X.max(axis=1), \"index where it occured\", X.argmax(axis=1) )\n",
        "print(\"Minimum value and index where it occured, for the entire matrix =\",X.min(), \"index where it occured\", X.argmin())\n",
        "print(\"Maximum value and index where it occured, for the entire matrix =\",X.max(), \"index where it occured\", X.argmax() )\n"
      ],
      "execution_count": 0,
      "outputs": [
        {
          "output_type": "stream",
          "text": [
            "[[0.5488135  0.71518937 0.60276338 0.54488318 0.4236548 ]\n",
            " [0.64589411 0.43758721 0.891773   0.96366276 0.38344152]\n",
            " [0.79172504 0.52889492 0.56804456 0.92559664 0.07103606]\n",
            " [0.0871293  0.0202184  0.83261985 0.77815675 0.87001215]\n",
            " [0.97861834 0.79915856 0.46147936 0.78052918 0.11827443]\n",
            " [0.63992102 0.14335329 0.94466892 0.52184832 0.41466194]\n",
            " [0.26455561 0.77423369 0.45615033 0.56843395 0.0187898 ]\n",
            " [0.6176355  0.61209572 0.616934   0.94374808 0.6818203 ]\n",
            " [0.3595079  0.43703195 0.6976312  0.06022547 0.66676672]\n",
            " [0.67063787 0.21038256 0.1289263  0.31542835 0.36371077]]\n",
            "Minimum value, for each column = [0.0871293  0.0202184  0.1289263  0.06022547 0.0187898 ] index where it occured [3 3 9 8 6]\n",
            "Maximum value and index where it occured, for each column = [0.97861834 0.79915856 0.94466892 0.96366276 0.87001215] index where it occured [4 4 5 1 3]\n",
            "Minimum value and index where it occured, for each row = [0.4236548  0.38344152 0.07103606 0.0202184  0.11827443 0.14335329\n",
            " 0.0187898  0.61209572 0.06022547 0.1289263 ] index where it occured [4 4 4 1 4 1 4 1 3 2]\n",
            "Maximum value and index where it occured, for each row = [0.71518937 0.96366276 0.92559664 0.87001215 0.97861834 0.94466892\n",
            " 0.77423369 0.94374808 0.6976312  0.67063787] index where it occured [1 3 3 4 0 2 1 3 2 0]\n",
            "Minimum value and index where it occured, for the entire matrix = 0.018789800436355142 index where it occured 34\n",
            "Maximum value and index where it occured, for the entire matrix = 0.978618342232764 index where it occured 20\n"
          ],
          "name": "stdout"
        }
      ]
    },
    {
      "cell_type": "markdown",
      "metadata": {
        "id": "YpjW2ypkEGtS",
        "colab_type": "text"
      },
      "source": [
        "Find and print the following for the matrix X: \n",
        "* Mean of each row and column\n",
        "* Standard deviation of each row and column\n",
        "* Mean of the entire matrix\n",
        "* Standard deviation of entire matrix"
      ]
    },
    {
      "cell_type": "code",
      "metadata": {
        "id": "gMdm2pw0GWjf",
        "colab_type": "code",
        "outputId": "967cbd88-eddc-47ed-84ee-615e167a7d7e",
        "colab": {
          "base_uri": "https://localhost:8080/",
          "height": 136
        }
      },
      "source": [
        "mean_row = np.mean(X, axis=1)\n",
        "mean_col = np.mean(X, axis=0)\n",
        "std_X = np.std(X)\n",
        "std_X_col = np.std(X, axis=0)\n",
        "std_X_row = np.std(X, axis=1)\n",
        "# print(X)\n",
        "print(\"STD matrix =\",std_X)\n",
        "print(\"STD col =\",std_X_col)\n",
        "print(\"STD row =\",std_X_row)\n",
        "print (\"mean_row = \",mean_row)\n",
        "print (\"mean_col = \" ,mean_col)"
      ],
      "execution_count": 0,
      "outputs": [
        {
          "output_type": "stream",
          "text": [
            "STD matrix = 0.27226582292177587\n",
            "STD col = [0.24687647 0.25752158 0.22948615 0.28054144 0.26584905]\n",
            "STD row = [0.09445299 0.23322986 0.29189733 0.38052993 0.30431633 0.26338419\n",
            " 0.25841437 0.12727959 0.23169975 0.18537332]\n",
            "mean_row =  [0.56706085 0.66447172 0.57705944 0.51762729 0.62761197 0.5328907\n",
            " 0.41643268 0.69444672 0.44423265 0.33781717]\n",
            "mean_col =  [0.56044382 0.46781457 0.62009909 0.64025127 0.40121685]\n"
          ],
          "name": "stdout"
        }
      ]
    },
    {
      "cell_type": "markdown",
      "metadata": {
        "id": "7dw7W8HOGXKA",
        "colab_type": "text"
      },
      "source": [
        "Let $Y$ denote a square matrix of size 10 with random values. Print the following:\n",
        "* Determinant\n",
        "* Rank of the matrix\n",
        "* Diagonal Elements\n",
        "* Trace\n",
        "* Eigen values\n",
        "* Matrices obtained after Singular Value Decomposition\n",
        "* Inverse if exists, otherwise Pseudo-Inverse\n",
        "* Multiplication $Y$ with $X$\n",
        "* Element-wise multiplication of $Y$ and its inverse(or pseudo-inverse)"
      ]
    },
    {
      "cell_type": "code",
      "metadata": {
        "id": "Tswbn9hgL7yi",
        "colab_type": "code",
        "outputId": "03600b47-634b-4e50-cc47-bf3ef0a654bf",
        "colab": {
          "base_uri": "https://localhost:8080/",
          "height": 1000
        }
      },
      "source": [
        "np.random.seed(3)\n",
        "Y = np.random.rand(10,10)\n",
        "# Y = np.zeros((3,3))\n",
        "print(Y)\n",
        "print(\"Determinant =\",np.linalg.det(Y))\n",
        "print(\"Rank =\",np.linalg.matrix_rank(Y))\n",
        "print(\"Diagonal =\",np.diagonal(Y))\n",
        "print(\"Trace =\",np.trace(Y))\n",
        "print(\"Eigen Values =\",np.linalg.eig(Y))\n",
        "u, s, vh = np.linalg.svd(a, full_matrices=True)\n",
        "print (u, s, vh)\n",
        "inv_or_psudoinv = np.zeros((10,10))\n",
        "try: \n",
        "  inv_or_psudoinv = np.linalg.inv(Y)\n",
        "  print(\"Inverse =\", np.linalg.inv(Y))\n",
        "except:\n",
        "  inv_or_psudoinv = np.linalg.pinv(Y)\n",
        "  print(\"Inverse does not exist the psudo inverse is =\", np.linalg.pinv(Y))\n",
        "print(\"multiplication of Y and X is = \", np.matmul(Y, X), np.matmul(Y, X).shape)\n",
        "print(\"Element wise multiplication Y and inverse / psudo inverse\", inv_or_psudoinv * Y, np.matmul(Y, inv_or_psudoinv))"
      ],
      "execution_count": 0,
      "outputs": [
        {
          "output_type": "stream",
          "text": [
            "[[0.5507979  0.70814782 0.29090474 0.51082761 0.89294695 0.89629309\n",
            "  0.12558531 0.20724288 0.0514672  0.44080984]\n",
            " [0.02987621 0.45683322 0.64914405 0.27848728 0.6762549  0.59086282\n",
            "  0.02398188 0.55885409 0.25925245 0.4151012 ]\n",
            " [0.28352508 0.69313792 0.44045372 0.15686774 0.54464902 0.78031476\n",
            "  0.30636353 0.22195788 0.38797126 0.93638365]\n",
            " [0.97599542 0.67238368 0.90283411 0.84575087 0.37799404 0.09221701\n",
            "  0.6534109  0.55784076 0.36156476 0.2250545 ]\n",
            " [0.40651992 0.46894025 0.26923558 0.29179277 0.4576864  0.86053391\n",
            "  0.5862529  0.28348786 0.27797751 0.45462208]\n",
            " [0.20541034 0.20137871 0.51403506 0.08722937 0.48358553 0.36217621\n",
            "  0.70768662 0.74674622 0.69109292 0.68918041]\n",
            " [0.37360012 0.6681348  0.33984866 0.57279387 0.32580716 0.44514505\n",
            "  0.06152893 0.24267542 0.97160261 0.2305842 ]\n",
            " [0.69147751 0.65047686 0.72393914 0.47508861 0.59666377 0.06696942\n",
            "  0.07256214 0.19897603 0.151861   0.10010434]\n",
            " [0.12929386 0.55327773 0.18781482 0.95210124 0.68161178 0.54101967\n",
            "  0.7071806  0.26388667 0.92672568 0.83919306]\n",
            " [0.7263195  0.48023996 0.84210319 0.74475232 0.66032591 0.91397527\n",
            "  0.63366556 0.36594058 0.55284457 0.19638058]]\n",
            "Determinant = -0.012807808169095483\n",
            "Rank = 10\n",
            "Diagonal = [0.5507979  0.45683322 0.44045372 0.84575087 0.4576864  0.36217621\n",
            " 0.06152893 0.19897603 0.92672568 0.19638058]\n",
            "Trace = 4.497309545724899\n",
            "Eigen Values = (array([ 4.797525  +0.j        ,  0.72411408+0.52238181j,\n",
            "        0.72411408-0.52238181j, -0.48250062+0.55413671j,\n",
            "       -0.48250062-0.55413671j, -0.6909002 +0.j        ,\n",
            "       -0.25905659+0.32357377j, -0.25905659-0.32357377j,\n",
            "        0.2127855 +0.08352477j,  0.2127855 -0.08352477j]), array([[ 0.29593906+0.j        ,  0.14213977+0.19798456j,\n",
            "         0.14213977-0.19798456j, -0.37236549+0.00325385j,\n",
            "        -0.37236549-0.00325385j, -0.1096481 +0.j        ,\n",
            "        -0.0132423 +0.12273111j, -0.0132423 -0.12273111j,\n",
            "        -0.56228934-0.10973258j, -0.56228934+0.10973258j],\n",
            "       [ 0.25059285+0.j        ,  0.01404552+0.1967944j ,\n",
            "         0.01404552-0.1967944j , -0.16781094-0.17307308j,\n",
            "        -0.16781094+0.17307308j, -0.29711444+0.j        ,\n",
            "        -0.04108937-0.4113554j , -0.04108937+0.4113554j ,\n",
            "         0.61892544+0.j        ,  0.61892544-0.j        ],\n",
            "       [ 0.31416894+0.j        , -0.24186998+0.15655466j,\n",
            "        -0.24186998-0.15655466j, -0.16993115+0.15284371j,\n",
            "        -0.16993115-0.15284371j,  0.36362726+0.j        ,\n",
            "        -0.10206063+0.15541211j, -0.10206063-0.15541211j,\n",
            "         0.16701388+0.18450241j,  0.16701388-0.18450241j],\n",
            "       [ 0.36027404+0.j        ,  0.52448941+0.j        ,\n",
            "         0.52448941-0.j        ,  0.48969059+0.j        ,\n",
            "         0.48969059-0.j        ,  0.17074825+0.j        ,\n",
            "         0.14078898+0.01851681j,  0.14078898-0.01851681j,\n",
            "        -0.13278372+0.03975259j, -0.13278372-0.03975259j],\n",
            "       [ 0.27990836+0.j        , -0.13624801+0.01805996j,\n",
            "        -0.13624801-0.01805996j, -0.0731246 -0.10412128j,\n",
            "        -0.0731246 +0.10412128j,  0.13537705+0.j        ,\n",
            "        -0.29263074+0.368267j  , -0.29263074-0.368267j  ,\n",
            "        -0.07942445-0.1381196j , -0.07942445+0.1381196j ],\n",
            "       [ 0.30697292+0.j        , -0.2288709 -0.09164898j,\n",
            "        -0.2288709 +0.09164898j,  0.34166486-0.10037728j,\n",
            "         0.34166486+0.10037728j,  0.38961338+0.j        ,\n",
            "         0.1575938 -0.27237341j,  0.1575938 +0.27237341j,\n",
            "        -0.05056956+0.01833742j, -0.05056956-0.01833742j],\n",
            "       [ 0.28526996+0.j        , -0.07276121-0.22120787j,\n",
            "        -0.07276121+0.22120787j, -0.09920762+0.30369397j,\n",
            "        -0.09920762-0.30369397j, -0.38942645+0.j        ,\n",
            "        -0.35795075-0.21303717j, -0.35795075+0.21303717j,\n",
            "         0.25824685-0.05397791j,  0.25824685+0.05397791j],\n",
            "       [ 0.23358056+0.j        ,  0.33195752+0.22875065j,\n",
            "         0.33195752-0.22875065j,  0.22899202+0.29805206j,\n",
            "         0.22899202-0.29805206j, -0.15526644+0.j        ,\n",
            "         0.47450761+0.j        ,  0.47450761-0.j        ,\n",
            "         0.01343252-0.05360821j,  0.01343252+0.05360821j],\n",
            "       [ 0.39548419+0.j        , -0.14569343-0.47441452j,\n",
            "        -0.14569343+0.47441452j, -0.29937425-0.1334132j ,\n",
            "        -0.29937425+0.1334132j ,  0.26931546+0.j        ,\n",
            "         0.07126882+0.08476271j,  0.07126882-0.08476271j,\n",
            "        -0.02419704-0.00279054j, -0.02419704+0.00279054j],\n",
            "       [ 0.3952166 +0.j        , -0.02644966-0.01254236j,\n",
            "        -0.02644966+0.01254236j,  0.09200666-0.09461051j,\n",
            "         0.09200666+0.09461051j, -0.5656002 +0.j        ,\n",
            "         0.04736886+0.16022229j,  0.04736886-0.16022229j,\n",
            "        -0.31202472+0.09318458j, -0.31202472-0.09318458j]]))\n",
            "[[-0.61108083  0.79049354  0.04123335]\n",
            " [-0.60557009 -0.43331151 -0.66747734]\n",
            " [-0.50976964 -0.43285229  0.7434876 ]] [2.26061715 0.60775667 0.4556685 ] [[-0.21056073 -0.45370861 -0.37950614 -0.45316543 -0.63279448]\n",
            " [-0.11376909  0.73118227 -0.66898447 -0.03251422 -0.06190061]\n",
            " [-0.69218714 -0.09265635  0.00120585  0.68816218 -0.19678194]\n",
            " [ 0.48431833 -0.42303003 -0.58178332  0.47447174  0.15128149]\n",
            " [-0.47857444 -0.26829345 -0.26450253 -0.30804756  0.73084214]]\n",
            "Inverse = [[ 2.31470983 -1.92264991  0.7642126   0.78096977 -2.74248585  1.20175092\n",
            "   0.38693174 -1.37664514 -0.96484143  0.83123246]\n",
            " [-2.24504111  1.25605742 -0.91466223 -0.39587642  4.71823627 -1.32162185\n",
            "   0.52594984  2.39368168  0.33051878 -2.33540101]\n",
            " [-1.41290916  0.66149939  0.94968095 -0.18869248 -0.50069581 -0.55664939\n",
            "  -0.55275157  0.57384943 -0.04209635  1.11025544]\n",
            " [ 0.88051129  0.37055438  0.15632501  1.25248223 -1.81219563 -0.7249179\n",
            "  -0.19613524 -1.81766381  0.56943994  0.52226388]\n",
            " [ 0.39743656 -0.28842728 -1.09880632 -1.57965965  0.36480771  0.90235521\n",
            "  -0.47743451  2.09911148  0.53638288 -0.04562024]\n",
            " [ 0.36068175  0.22958502  0.33426258  0.10367281 -0.06700744 -0.37158555\n",
            "   0.22972702 -1.26286862 -0.45133033  0.75430018]\n",
            " [-2.01045364  0.19347423 -1.01393804 -0.74303568  3.56449935 -0.31892146\n",
            "  -0.67116163  2.01265699  0.72873355 -0.69454601]\n",
            " [ 1.18043988  0.86047396 -0.88991494  1.30425635 -0.14247318  0.69661973\n",
            "   0.5413572  -1.69774697 -0.60797727 -1.00698216]\n",
            " [-0.1679456  -0.63197036 -0.0540802  -0.73587818 -0.46423184  0.67805628\n",
            "   0.88551393  0.37662528 -0.03416891  0.42341327]\n",
            " [ 1.3938872  -0.74982353  1.96636643  1.00676681 -3.21953806  0.44078124\n",
            "  -0.40298654 -1.90114336 -0.04414834  0.55576763]]\n",
            "multiplication of Y and X is =  [[2.95726101 2.04939653 3.09073485 3.22311637 1.78554985]\n",
            " [2.61266989 1.75663954 2.48635951 2.79783984 1.50654432]\n",
            " [2.98361778 2.02894044 2.82637865 2.88685728 1.69799548]\n",
            " [2.98565892 2.85485651 3.58995669 4.0073463  2.2697569 ]\n",
            " [2.49815821 1.97791033 2.77809758 2.71690515 1.59098767]\n",
            " [2.72146909 2.39905911 2.58780909 2.78212857 1.71792628]\n",
            " [2.22935358 1.74438251 2.94718357 2.48955906 2.05838199]\n",
            " [2.30476788 1.92350098 2.41698824 2.81379687 1.38016019]\n",
            " [2.91925254 2.36604123 3.53647969 3.30424184 2.52990887]\n",
            " [3.39559098 2.84629279 4.05845051 4.01068273 2.35816262]] (10, 5)\n",
            "Element wise multiplication Y and inverse / psudo inverse [[ 1.27493732 -1.36152035  0.22231307  0.39894092 -2.44889439  1.07712104\n",
            "   0.04859294 -0.2852999  -0.04965769  0.36641545]\n",
            " [-0.06707332  0.57380876 -0.59374754 -0.11024655  3.19073041 -0.78089721\n",
            "   0.01261327  1.33771879  0.0856878  -0.96942775]\n",
            " [-0.40059519  0.45851031  0.4182905  -0.02959976 -0.27270348 -0.43436174\n",
            "  -0.16934292  0.12737041 -0.01633217  1.03962504]\n",
            " [ 0.85937499  0.24915472  0.14113555  1.05928794 -0.68499915 -0.06684976\n",
            "  -0.12815691 -1.01396696  0.20588942  0.11753784]\n",
            " [ 0.16156588 -0.13525516 -0.29583776 -0.46093327  0.16696753  0.77650726\n",
            "  -0.27989737  0.59507263  0.14910237 -0.02073997]\n",
            " [ 0.07408776  0.04623354  0.17182269  0.00904331 -0.03240383 -0.13457945\n",
            "   0.16257474 -0.94304237 -0.3119112   0.51984891]\n",
            " [-0.75110573  0.12926687 -0.34458549 -0.42560628  1.1613394  -0.14196631\n",
            "  -0.04129586  0.48842239  0.70803941 -0.16015134]\n",
            " [ 0.81624763  0.5597184  -0.64424426  0.61963734 -0.08500859  0.04665222\n",
            "   0.03928204 -0.33781095 -0.09232803 -0.10080329]\n",
            " [-0.02171434 -0.34965513 -0.01015706 -0.70063053 -0.31642589  0.36684179\n",
            "   0.62621827  0.09938639 -0.03166521  0.35532547]\n",
            " [ 1.01240745 -0.36009522  1.65588343  0.74979192 -2.12594439  0.40286315\n",
            "  -0.25535869 -0.69570551 -0.02440717  0.10914197]] [[ 1.00000000e+00 -3.90793144e-17  3.65935406e-16  3.11342944e-16\n",
            "  -8.91983549e-16 -4.81506510e-17 -1.42655871e-16 -6.91246638e-16\n",
            "  -6.67910040e-17  1.33795870e-16]\n",
            " [ 1.42780307e-17  1.00000000e+00 -6.98095657e-17 -1.52151045e-16\n",
            "  -4.63427918e-16 -1.05178821e-16  4.44443766e-17 -9.87040861e-17\n",
            "   1.06466168e-16 -1.58597206e-16]\n",
            " [-1.44191947e-17 -4.68953161e-17  1.00000000e+00  4.77076242e-17\n",
            "  -6.49165003e-16 -6.78141792e-17 -9.36855690e-18 -9.73600834e-16\n",
            "  -3.16087494e-17 -1.18238356e-16]\n",
            " [-1.41735142e-16  2.10254036e-16  1.43559668e-17  1.00000000e+00\n",
            "   5.52648957e-17 -8.23073740e-18 -1.72594927e-18  7.33409702e-17\n",
            "   4.69571374e-17 -2.73245897e-16]\n",
            " [-1.71385362e-17 -3.79289464e-18 -2.27088068e-16  1.03307474e-16\n",
            "   1.00000000e+00 -2.64623779e-17  1.14447652e-16  2.15787383e-17\n",
            "  -1.42660749e-17 -2.17474454e-16]\n",
            " [-8.26384805e-17  1.20440776e-16 -4.69445243e-17 -3.74729367e-17\n",
            "   9.72134814e-16  1.00000000e+00  1.81161593e-17  2.13127233e-16\n",
            "  -7.72471485e-17 -1.30656837e-16]\n",
            " [ 3.53786975e-16  2.66066463e-18 -6.15228131e-17  1.38960755e-16\n",
            "  -1.33510130e-15  2.62173396e-17  1.00000000e+00 -3.76182195e-16\n",
            "  -7.02445804e-17  2.06159764e-16]\n",
            " [-2.75842016e-16 -7.28598118e-17 -2.34103860e-16  2.80898127e-17\n",
            "  -1.39319386e-16  1.41600267e-16 -4.52961673e-17  1.00000000e+00\n",
            "  -2.64462855e-17 -7.90426564e-17]\n",
            " [-6.53027597e-17  1.25653075e-16  5.18133677e-17  1.96668895e-17\n",
            "  -3.92404830e-16 -2.59855724e-17  2.19914269e-18  2.18871633e-17\n",
            "   1.00000000e+00 -5.87793126e-18]\n",
            " [-1.92650595e-16  2.94720021e-16  1.10584317e-16  1.69940671e-16\n",
            "   3.19180173e-16 -1.66979037e-17 -4.43339340e-17  3.56743742e-17\n",
            "  -9.06248767e-18  1.00000000e+00]]\n"
          ],
          "name": "stdout"
        }
      ]
    },
    {
      "cell_type": "markdown",
      "metadata": {
        "id": "Qne3RnfOL6-4",
        "colab_type": "text"
      },
      "source": [
        "## End of Part - 1\n",
        " --- --- ---"
      ]
    },
    {
      "cell_type": "markdown",
      "metadata": {
        "id": "LA-m4UYkMPTe",
        "colab_type": "text"
      },
      "source": [
        "## Part - 2\n",
        "---\n",
        "In this part, you will be working with the library ```pandas```. Import this library with an alias name ```pd```."
      ]
    },
    {
      "cell_type": "code",
      "metadata": {
        "id": "i8z7TpnZSIms",
        "colab_type": "code",
        "colab": {}
      },
      "source": [
        "# Initial imports\n",
        "import numpy as np\n",
        "import matplotlib.pyplot as plt\n",
        "import pandas as pd"
      ],
      "execution_count": 0,
      "outputs": []
    },
    {
      "cell_type": "markdown",
      "metadata": {
        "id": "2v-HkHnyuQ3X",
        "colab_type": "text"
      },
      "source": [
        "Download dataset from: http://biostat.mc.vanderbilt.edu/wiki/pub/Main/DataSets/titanic3.csv\n",
        "Read the data and display the first 5 rows"
      ]
    },
    {
      "cell_type": "code",
      "metadata": {
        "id": "1LrEiY4Gdko3",
        "colab_type": "code",
        "outputId": "ed118097-9379-4af9-9793-d199151998f0",
        "colab": {
          "base_uri": "https://localhost:8080/",
          "height": 204
        }
      },
      "source": [
        "! wget \"http://biostat.mc.vanderbilt.edu/wiki/pub/Main/DataSets/titanic3.csv\""
      ],
      "execution_count": 0,
      "outputs": [
        {
          "output_type": "stream",
          "text": [
            "--2020-04-17 15:10:28--  http://biostat.mc.vanderbilt.edu/wiki/pub/Main/DataSets/titanic3.csv\n",
            "Resolving biostat.mc.vanderbilt.edu (biostat.mc.vanderbilt.edu)... 160.129.37.119\n",
            "Connecting to biostat.mc.vanderbilt.edu (biostat.mc.vanderbilt.edu)|160.129.37.119|:80... connected.\n",
            "HTTP request sent, awaiting response... 200 OK\n",
            "Length: 116752 (114K) [text/csv]\n",
            "Saving to: ‘titanic3.csv.1’\n",
            "\n",
            "\rtitanic3.csv.1        0%[                    ]       0  --.-KB/s               \rtitanic3.csv.1      100%[===================>] 114.02K  --.-KB/s    in 0.1s    \n",
            "\n",
            "2020-04-17 15:10:28 (1.02 MB/s) - ‘titanic3.csv.1’ saved [116752/116752]\n",
            "\n"
          ],
          "name": "stdout"
        }
      ]
    },
    {
      "cell_type": "code",
      "metadata": {
        "id": "LinX5ywNTUIm",
        "colab_type": "code",
        "outputId": "b1ae973e-cff4-4052-fee4-dd4ebb6faace",
        "colab": {
          "base_uri": "https://localhost:8080/",
          "height": 708
        }
      },
      "source": [
        "#Download dataset from: http://biostat.mc.vanderbilt.edu/wiki/pub/Main/DataSets/titanic3.csv\n",
        "\n",
        "file_url = \"/content/titanic3.csv\"\n",
        "df = pd.read_csv(\"/content/titanic3.csv\") \n",
        "# print(df.dtypes)\n",
        "# gender =  df['sex']\n",
        "# gender.shape\n",
        "df"
      ],
      "execution_count": 0,
      "outputs": [
        {
          "output_type": "execute_result",
          "data": {
            "text/html": [
              "<div>\n",
              "<style scoped>\n",
              "    .dataframe tbody tr th:only-of-type {\n",
              "        vertical-align: middle;\n",
              "    }\n",
              "\n",
              "    .dataframe tbody tr th {\n",
              "        vertical-align: top;\n",
              "    }\n",
              "\n",
              "    .dataframe thead th {\n",
              "        text-align: right;\n",
              "    }\n",
              "</style>\n",
              "<table border=\"1\" class=\"dataframe\">\n",
              "  <thead>\n",
              "    <tr style=\"text-align: right;\">\n",
              "      <th></th>\n",
              "      <th>pclass</th>\n",
              "      <th>survived</th>\n",
              "      <th>name</th>\n",
              "      <th>sex</th>\n",
              "      <th>age</th>\n",
              "      <th>sibsp</th>\n",
              "      <th>parch</th>\n",
              "      <th>ticket</th>\n",
              "      <th>fare</th>\n",
              "      <th>cabin</th>\n",
              "      <th>embarked</th>\n",
              "      <th>boat</th>\n",
              "      <th>body</th>\n",
              "      <th>home.dest</th>\n",
              "    </tr>\n",
              "  </thead>\n",
              "  <tbody>\n",
              "    <tr>\n",
              "      <th>0</th>\n",
              "      <td>1</td>\n",
              "      <td>1</td>\n",
              "      <td>Allen, Miss. Elisabeth Walton</td>\n",
              "      <td>female</td>\n",
              "      <td>29.00</td>\n",
              "      <td>0</td>\n",
              "      <td>0</td>\n",
              "      <td>24160</td>\n",
              "      <td>211.3375</td>\n",
              "      <td>B5</td>\n",
              "      <td>S</td>\n",
              "      <td>2</td>\n",
              "      <td>NaN</td>\n",
              "      <td>St Louis, MO</td>\n",
              "    </tr>\n",
              "    <tr>\n",
              "      <th>1</th>\n",
              "      <td>1</td>\n",
              "      <td>1</td>\n",
              "      <td>Allison, Master. Hudson Trevor</td>\n",
              "      <td>male</td>\n",
              "      <td>0.92</td>\n",
              "      <td>1</td>\n",
              "      <td>2</td>\n",
              "      <td>113781</td>\n",
              "      <td>151.5500</td>\n",
              "      <td>C22 C26</td>\n",
              "      <td>S</td>\n",
              "      <td>11</td>\n",
              "      <td>NaN</td>\n",
              "      <td>Montreal, PQ / Chesterville, ON</td>\n",
              "    </tr>\n",
              "    <tr>\n",
              "      <th>2</th>\n",
              "      <td>1</td>\n",
              "      <td>0</td>\n",
              "      <td>Allison, Miss. Helen Loraine</td>\n",
              "      <td>female</td>\n",
              "      <td>2.00</td>\n",
              "      <td>1</td>\n",
              "      <td>2</td>\n",
              "      <td>113781</td>\n",
              "      <td>151.5500</td>\n",
              "      <td>C22 C26</td>\n",
              "      <td>S</td>\n",
              "      <td>NaN</td>\n",
              "      <td>NaN</td>\n",
              "      <td>Montreal, PQ / Chesterville, ON</td>\n",
              "    </tr>\n",
              "    <tr>\n",
              "      <th>3</th>\n",
              "      <td>1</td>\n",
              "      <td>0</td>\n",
              "      <td>Allison, Mr. Hudson Joshua Creighton</td>\n",
              "      <td>male</td>\n",
              "      <td>30.00</td>\n",
              "      <td>1</td>\n",
              "      <td>2</td>\n",
              "      <td>113781</td>\n",
              "      <td>151.5500</td>\n",
              "      <td>C22 C26</td>\n",
              "      <td>S</td>\n",
              "      <td>NaN</td>\n",
              "      <td>135.0</td>\n",
              "      <td>Montreal, PQ / Chesterville, ON</td>\n",
              "    </tr>\n",
              "    <tr>\n",
              "      <th>4</th>\n",
              "      <td>1</td>\n",
              "      <td>0</td>\n",
              "      <td>Allison, Mrs. Hudson J C (Bessie Waldo Daniels)</td>\n",
              "      <td>female</td>\n",
              "      <td>25.00</td>\n",
              "      <td>1</td>\n",
              "      <td>2</td>\n",
              "      <td>113781</td>\n",
              "      <td>151.5500</td>\n",
              "      <td>C22 C26</td>\n",
              "      <td>S</td>\n",
              "      <td>NaN</td>\n",
              "      <td>NaN</td>\n",
              "      <td>Montreal, PQ / Chesterville, ON</td>\n",
              "    </tr>\n",
              "    <tr>\n",
              "      <th>...</th>\n",
              "      <td>...</td>\n",
              "      <td>...</td>\n",
              "      <td>...</td>\n",
              "      <td>...</td>\n",
              "      <td>...</td>\n",
              "      <td>...</td>\n",
              "      <td>...</td>\n",
              "      <td>...</td>\n",
              "      <td>...</td>\n",
              "      <td>...</td>\n",
              "      <td>...</td>\n",
              "      <td>...</td>\n",
              "      <td>...</td>\n",
              "      <td>...</td>\n",
              "    </tr>\n",
              "    <tr>\n",
              "      <th>1304</th>\n",
              "      <td>3</td>\n",
              "      <td>0</td>\n",
              "      <td>Zabour, Miss. Hileni</td>\n",
              "      <td>female</td>\n",
              "      <td>14.50</td>\n",
              "      <td>1</td>\n",
              "      <td>0</td>\n",
              "      <td>2665</td>\n",
              "      <td>14.4542</td>\n",
              "      <td>NaN</td>\n",
              "      <td>C</td>\n",
              "      <td>NaN</td>\n",
              "      <td>328.0</td>\n",
              "      <td>NaN</td>\n",
              "    </tr>\n",
              "    <tr>\n",
              "      <th>1305</th>\n",
              "      <td>3</td>\n",
              "      <td>0</td>\n",
              "      <td>Zabour, Miss. Thamine</td>\n",
              "      <td>female</td>\n",
              "      <td>NaN</td>\n",
              "      <td>1</td>\n",
              "      <td>0</td>\n",
              "      <td>2665</td>\n",
              "      <td>14.4542</td>\n",
              "      <td>NaN</td>\n",
              "      <td>C</td>\n",
              "      <td>NaN</td>\n",
              "      <td>NaN</td>\n",
              "      <td>NaN</td>\n",
              "    </tr>\n",
              "    <tr>\n",
              "      <th>1306</th>\n",
              "      <td>3</td>\n",
              "      <td>0</td>\n",
              "      <td>Zakarian, Mr. Mapriededer</td>\n",
              "      <td>male</td>\n",
              "      <td>26.50</td>\n",
              "      <td>0</td>\n",
              "      <td>0</td>\n",
              "      <td>2656</td>\n",
              "      <td>7.2250</td>\n",
              "      <td>NaN</td>\n",
              "      <td>C</td>\n",
              "      <td>NaN</td>\n",
              "      <td>304.0</td>\n",
              "      <td>NaN</td>\n",
              "    </tr>\n",
              "    <tr>\n",
              "      <th>1307</th>\n",
              "      <td>3</td>\n",
              "      <td>0</td>\n",
              "      <td>Zakarian, Mr. Ortin</td>\n",
              "      <td>male</td>\n",
              "      <td>27.00</td>\n",
              "      <td>0</td>\n",
              "      <td>0</td>\n",
              "      <td>2670</td>\n",
              "      <td>7.2250</td>\n",
              "      <td>NaN</td>\n",
              "      <td>C</td>\n",
              "      <td>NaN</td>\n",
              "      <td>NaN</td>\n",
              "      <td>NaN</td>\n",
              "    </tr>\n",
              "    <tr>\n",
              "      <th>1308</th>\n",
              "      <td>3</td>\n",
              "      <td>0</td>\n",
              "      <td>Zimmerman, Mr. Leo</td>\n",
              "      <td>male</td>\n",
              "      <td>29.00</td>\n",
              "      <td>0</td>\n",
              "      <td>0</td>\n",
              "      <td>315082</td>\n",
              "      <td>7.8750</td>\n",
              "      <td>NaN</td>\n",
              "      <td>S</td>\n",
              "      <td>NaN</td>\n",
              "      <td>NaN</td>\n",
              "      <td>NaN</td>\n",
              "    </tr>\n",
              "  </tbody>\n",
              "</table>\n",
              "<p>1309 rows × 14 columns</p>\n",
              "</div>"
            ],
            "text/plain": [
              "      pclass  survived  ...   body                        home.dest\n",
              "0          1         1  ...    NaN                     St Louis, MO\n",
              "1          1         1  ...    NaN  Montreal, PQ / Chesterville, ON\n",
              "2          1         0  ...    NaN  Montreal, PQ / Chesterville, ON\n",
              "3          1         0  ...  135.0  Montreal, PQ / Chesterville, ON\n",
              "4          1         0  ...    NaN  Montreal, PQ / Chesterville, ON\n",
              "...      ...       ...  ...    ...                              ...\n",
              "1304       3         0  ...  328.0                              NaN\n",
              "1305       3         0  ...    NaN                              NaN\n",
              "1306       3         0  ...  304.0                              NaN\n",
              "1307       3         0  ...    NaN                              NaN\n",
              "1308       3         0  ...    NaN                              NaN\n",
              "\n",
              "[1309 rows x 14 columns]"
            ]
          },
          "metadata": {
            "tags": []
          },
          "execution_count": 76
        }
      ]
    },
    {
      "cell_type": "markdown",
      "metadata": {
        "id": "vTk1-mF5WYFN",
        "colab_type": "text"
      },
      "source": [
        "### Preprocessing of the Dataset"
      ]
    },
    {
      "cell_type": "markdown",
      "metadata": {
        "id": "kx9UrI9WWt17",
        "colab_type": "text"
      },
      "source": [
        "\n",
        "\n",
        "---\n",
        "\n",
        "\n",
        "**1. Convert the categorical values of columns 'sex', 'embarked', 'pclass' into dummy values and add them into titanic_data_new DataFrame**\n",
        "\n",
        "\n",
        "\n",
        "\n",
        "---\n",
        "\n"
      ]
    },
    {
      "cell_type": "code",
      "metadata": {
        "id": "AwDh9njbZ0QU",
        "colab_type": "code",
        "outputId": "81ba8933-1aea-4c90-cad6-b9604378f4b6",
        "colab": {
          "base_uri": "https://localhost:8080/",
          "height": 255
        }
      },
      "source": [
        "df1 = pd.get_dummies(df.embarked)\n",
        "df2 = pd.get_dummies(df.sex)\n",
        "df3 = pd.get_dummies(df.pclass)\n",
        "titanic_data_new = pd.concat([df1, df2, df3], axis=1, sort=False)\n",
        "print (titanic_data_new)\n",
        "# print(titanic_data_new)\n",
        "# titanic_data_new.to_csv(\"/content/newdf.csv\")\n",
        "# pd.set_option(\"display.max_rows\", 10)"
      ],
      "execution_count": 0,
      "outputs": [
        {
          "output_type": "stream",
          "text": [
            "      C  Q  S  female  male  1  2  3\n",
            "0     0  0  1       1     0  1  0  0\n",
            "1     0  0  1       0     1  1  0  0\n",
            "2     0  0  1       1     0  1  0  0\n",
            "3     0  0  1       0     1  1  0  0\n",
            "4     0  0  1       1     0  1  0  0\n",
            "...  .. .. ..     ...   ... .. .. ..\n",
            "1304  1  0  0       1     0  0  0  1\n",
            "1305  1  0  0       1     0  0  0  1\n",
            "1306  1  0  0       0     1  0  0  1\n",
            "1307  1  0  0       0     1  0  0  1\n",
            "1308  0  0  1       0     1  0  0  1\n",
            "\n",
            "[1309 rows x 8 columns]\n"
          ],
          "name": "stdout"
        }
      ]
    },
    {
      "cell_type": "markdown",
      "metadata": {
        "id": "Z9bxOfzDbY-n",
        "colab_type": "text"
      },
      "source": [
        "\n",
        "\n",
        "---\n",
        "\n",
        "\n",
        "**2. Fill the missing data in Age and Fare columns with the mean value of the respected column then add these columns to titanic_data_new**\n",
        "\n",
        "\n",
        "---\n",
        "\n"
      ]
    },
    {
      "cell_type": "code",
      "metadata": {
        "id": "DNx7Pr0ehhAs",
        "colab_type": "code",
        "outputId": "7394291f-e90b-438a-c4ce-e94516931c83",
        "colab": {
          "base_uri": "https://localhost:8080/",
          "height": 419
        }
      },
      "source": [
        "mean_age = df.age.mean()\n",
        "mean_fare = df.fare.mean()\n",
        "df.age.fillna(mean_age, inplace=True)\n",
        "df.fare.fillna(mean_fare, inplace=True)\n",
        "titanic_data_new = pd.concat([titanic_data_new,df.age, df.fare], axis=1, sort=False)\n",
        "titanic_data_new\n"
      ],
      "execution_count": 0,
      "outputs": [
        {
          "output_type": "execute_result",
          "data": {
            "text/html": [
              "<div>\n",
              "<style scoped>\n",
              "    .dataframe tbody tr th:only-of-type {\n",
              "        vertical-align: middle;\n",
              "    }\n",
              "\n",
              "    .dataframe tbody tr th {\n",
              "        vertical-align: top;\n",
              "    }\n",
              "\n",
              "    .dataframe thead th {\n",
              "        text-align: right;\n",
              "    }\n",
              "</style>\n",
              "<table border=\"1\" class=\"dataframe\">\n",
              "  <thead>\n",
              "    <tr style=\"text-align: right;\">\n",
              "      <th></th>\n",
              "      <th>C</th>\n",
              "      <th>Q</th>\n",
              "      <th>S</th>\n",
              "      <th>female</th>\n",
              "      <th>male</th>\n",
              "      <th>1</th>\n",
              "      <th>2</th>\n",
              "      <th>3</th>\n",
              "      <th>age</th>\n",
              "      <th>fare</th>\n",
              "    </tr>\n",
              "  </thead>\n",
              "  <tbody>\n",
              "    <tr>\n",
              "      <th>0</th>\n",
              "      <td>0</td>\n",
              "      <td>0</td>\n",
              "      <td>1</td>\n",
              "      <td>1</td>\n",
              "      <td>0</td>\n",
              "      <td>1</td>\n",
              "      <td>0</td>\n",
              "      <td>0</td>\n",
              "      <td>29.000000</td>\n",
              "      <td>211.3375</td>\n",
              "    </tr>\n",
              "    <tr>\n",
              "      <th>1</th>\n",
              "      <td>0</td>\n",
              "      <td>0</td>\n",
              "      <td>1</td>\n",
              "      <td>0</td>\n",
              "      <td>1</td>\n",
              "      <td>1</td>\n",
              "      <td>0</td>\n",
              "      <td>0</td>\n",
              "      <td>0.920000</td>\n",
              "      <td>151.5500</td>\n",
              "    </tr>\n",
              "    <tr>\n",
              "      <th>2</th>\n",
              "      <td>0</td>\n",
              "      <td>0</td>\n",
              "      <td>1</td>\n",
              "      <td>1</td>\n",
              "      <td>0</td>\n",
              "      <td>1</td>\n",
              "      <td>0</td>\n",
              "      <td>0</td>\n",
              "      <td>2.000000</td>\n",
              "      <td>151.5500</td>\n",
              "    </tr>\n",
              "    <tr>\n",
              "      <th>3</th>\n",
              "      <td>0</td>\n",
              "      <td>0</td>\n",
              "      <td>1</td>\n",
              "      <td>0</td>\n",
              "      <td>1</td>\n",
              "      <td>1</td>\n",
              "      <td>0</td>\n",
              "      <td>0</td>\n",
              "      <td>30.000000</td>\n",
              "      <td>151.5500</td>\n",
              "    </tr>\n",
              "    <tr>\n",
              "      <th>4</th>\n",
              "      <td>0</td>\n",
              "      <td>0</td>\n",
              "      <td>1</td>\n",
              "      <td>1</td>\n",
              "      <td>0</td>\n",
              "      <td>1</td>\n",
              "      <td>0</td>\n",
              "      <td>0</td>\n",
              "      <td>25.000000</td>\n",
              "      <td>151.5500</td>\n",
              "    </tr>\n",
              "    <tr>\n",
              "      <th>...</th>\n",
              "      <td>...</td>\n",
              "      <td>...</td>\n",
              "      <td>...</td>\n",
              "      <td>...</td>\n",
              "      <td>...</td>\n",
              "      <td>...</td>\n",
              "      <td>...</td>\n",
              "      <td>...</td>\n",
              "      <td>...</td>\n",
              "      <td>...</td>\n",
              "    </tr>\n",
              "    <tr>\n",
              "      <th>1304</th>\n",
              "      <td>1</td>\n",
              "      <td>0</td>\n",
              "      <td>0</td>\n",
              "      <td>1</td>\n",
              "      <td>0</td>\n",
              "      <td>0</td>\n",
              "      <td>0</td>\n",
              "      <td>1</td>\n",
              "      <td>14.500000</td>\n",
              "      <td>14.4542</td>\n",
              "    </tr>\n",
              "    <tr>\n",
              "      <th>1305</th>\n",
              "      <td>1</td>\n",
              "      <td>0</td>\n",
              "      <td>0</td>\n",
              "      <td>1</td>\n",
              "      <td>0</td>\n",
              "      <td>0</td>\n",
              "      <td>0</td>\n",
              "      <td>1</td>\n",
              "      <td>29.881138</td>\n",
              "      <td>14.4542</td>\n",
              "    </tr>\n",
              "    <tr>\n",
              "      <th>1306</th>\n",
              "      <td>1</td>\n",
              "      <td>0</td>\n",
              "      <td>0</td>\n",
              "      <td>0</td>\n",
              "      <td>1</td>\n",
              "      <td>0</td>\n",
              "      <td>0</td>\n",
              "      <td>1</td>\n",
              "      <td>26.500000</td>\n",
              "      <td>7.2250</td>\n",
              "    </tr>\n",
              "    <tr>\n",
              "      <th>1307</th>\n",
              "      <td>1</td>\n",
              "      <td>0</td>\n",
              "      <td>0</td>\n",
              "      <td>0</td>\n",
              "      <td>1</td>\n",
              "      <td>0</td>\n",
              "      <td>0</td>\n",
              "      <td>1</td>\n",
              "      <td>27.000000</td>\n",
              "      <td>7.2250</td>\n",
              "    </tr>\n",
              "    <tr>\n",
              "      <th>1308</th>\n",
              "      <td>0</td>\n",
              "      <td>0</td>\n",
              "      <td>1</td>\n",
              "      <td>0</td>\n",
              "      <td>1</td>\n",
              "      <td>0</td>\n",
              "      <td>0</td>\n",
              "      <td>1</td>\n",
              "      <td>29.000000</td>\n",
              "      <td>7.8750</td>\n",
              "    </tr>\n",
              "  </tbody>\n",
              "</table>\n",
              "<p>1309 rows × 10 columns</p>\n",
              "</div>"
            ],
            "text/plain": [
              "      C  Q  S  female  male  1  2  3        age      fare\n",
              "0     0  0  1       1     0  1  0  0  29.000000  211.3375\n",
              "1     0  0  1       0     1  1  0  0   0.920000  151.5500\n",
              "2     0  0  1       1     0  1  0  0   2.000000  151.5500\n",
              "3     0  0  1       0     1  1  0  0  30.000000  151.5500\n",
              "4     0  0  1       1     0  1  0  0  25.000000  151.5500\n",
              "...  .. .. ..     ...   ... .. .. ..        ...       ...\n",
              "1304  1  0  0       1     0  0  0  1  14.500000   14.4542\n",
              "1305  1  0  0       1     0  0  0  1  29.881138   14.4542\n",
              "1306  1  0  0       0     1  0  0  1  26.500000    7.2250\n",
              "1307  1  0  0       0     1  0  0  1  27.000000    7.2250\n",
              "1308  0  0  1       0     1  0  0  1  29.000000    7.8750\n",
              "\n",
              "[1309 rows x 10 columns]"
            ]
          },
          "metadata": {
            "tags": []
          },
          "execution_count": 69
        }
      ]
    },
    {
      "cell_type": "markdown",
      "metadata": {
        "id": "SlRzKfhxkd1M",
        "colab_type": "text"
      },
      "source": [
        "###Normalization\n",
        "\n",
        "\n",
        "---\n",
        "\n",
        "\n",
        "\n",
        "1. Normalize the columns which have numerical data\n",
        "\n",
        "\n",
        "\n",
        "---\n",
        "\n"
      ]
    },
    {
      "cell_type": "code",
      "metadata": {
        "id": "Y3hpu92TlM38",
        "colab_type": "code",
        "outputId": "6f8987a7-90d8-48d2-e728-6bb5d5e1e06a",
        "colab": {
          "base_uri": "https://localhost:8080/",
          "height": 759
        }
      },
      "source": [
        "std_age = df.age.std()\n",
        "std_fare = df.fare.std()\n",
        "df_new = pd.DataFrame(df)\n",
        "df_new.age = (df.age - std_age)/mean_age\n",
        "df_new.fare = (df.fare - std_age)/mean_fare\n"
      ],
      "execution_count": 0,
      "outputs": [
        {
          "output_type": "execute_result",
          "data": {
            "text/html": [
              "<div>\n",
              "<style scoped>\n",
              "    .dataframe tbody tr th:only-of-type {\n",
              "        vertical-align: middle;\n",
              "    }\n",
              "\n",
              "    .dataframe tbody tr th {\n",
              "        vertical-align: top;\n",
              "    }\n",
              "\n",
              "    .dataframe thead th {\n",
              "        text-align: right;\n",
              "    }\n",
              "</style>\n",
              "<table border=\"1\" class=\"dataframe\">\n",
              "  <thead>\n",
              "    <tr style=\"text-align: right;\">\n",
              "      <th></th>\n",
              "      <th>pclass</th>\n",
              "      <th>survived</th>\n",
              "      <th>name</th>\n",
              "      <th>sex</th>\n",
              "      <th>age</th>\n",
              "      <th>sibsp</th>\n",
              "      <th>parch</th>\n",
              "      <th>ticket</th>\n",
              "      <th>fare</th>\n",
              "      <th>cabin</th>\n",
              "      <th>embarked</th>\n",
              "      <th>boat</th>\n",
              "      <th>body</th>\n",
              "      <th>home.dest</th>\n",
              "    </tr>\n",
              "  </thead>\n",
              "  <tbody>\n",
              "    <tr>\n",
              "      <th>0</th>\n",
              "      <td>1</td>\n",
              "      <td>1</td>\n",
              "      <td>Allen, Miss. Elisabeth Walton</td>\n",
              "      <td>female</td>\n",
              "      <td>0.539364</td>\n",
              "      <td>0</td>\n",
              "      <td>0</td>\n",
              "      <td>24160</td>\n",
              "      <td>5.960398</td>\n",
              "      <td>B5</td>\n",
              "      <td>S</td>\n",
              "      <td>2</td>\n",
              "      <td>NaN</td>\n",
              "      <td>St Louis, MO</td>\n",
              "    </tr>\n",
              "    <tr>\n",
              "      <th>1</th>\n",
              "      <td>1</td>\n",
              "      <td>1</td>\n",
              "      <td>Allison, Master. Hudson Trevor</td>\n",
              "      <td>male</td>\n",
              "      <td>-0.400359</td>\n",
              "      <td>1</td>\n",
              "      <td>2</td>\n",
              "      <td>113781</td>\n",
              "      <td>4.164734</td>\n",
              "      <td>C22 C26</td>\n",
              "      <td>S</td>\n",
              "      <td>11</td>\n",
              "      <td>NaN</td>\n",
              "      <td>Montreal, PQ / Chesterville, ON</td>\n",
              "    </tr>\n",
              "    <tr>\n",
              "      <th>2</th>\n",
              "      <td>1</td>\n",
              "      <td>0</td>\n",
              "      <td>Allison, Miss. Helen Loraine</td>\n",
              "      <td>female</td>\n",
              "      <td>-0.364216</td>\n",
              "      <td>1</td>\n",
              "      <td>2</td>\n",
              "      <td>113781</td>\n",
              "      <td>4.164734</td>\n",
              "      <td>C22 C26</td>\n",
              "      <td>S</td>\n",
              "      <td>NaN</td>\n",
              "      <td>NaN</td>\n",
              "      <td>Montreal, PQ / Chesterville, ON</td>\n",
              "    </tr>\n",
              "    <tr>\n",
              "      <th>3</th>\n",
              "      <td>1</td>\n",
              "      <td>0</td>\n",
              "      <td>Allison, Mr. Hudson Joshua Creighton</td>\n",
              "      <td>male</td>\n",
              "      <td>0.572830</td>\n",
              "      <td>1</td>\n",
              "      <td>2</td>\n",
              "      <td>113781</td>\n",
              "      <td>4.164734</td>\n",
              "      <td>C22 C26</td>\n",
              "      <td>S</td>\n",
              "      <td>NaN</td>\n",
              "      <td>135.0</td>\n",
              "      <td>Montreal, PQ / Chesterville, ON</td>\n",
              "    </tr>\n",
              "    <tr>\n",
              "      <th>4</th>\n",
              "      <td>1</td>\n",
              "      <td>0</td>\n",
              "      <td>Allison, Mrs. Hudson J C (Bessie Waldo Daniels)</td>\n",
              "      <td>female</td>\n",
              "      <td>0.405500</td>\n",
              "      <td>1</td>\n",
              "      <td>2</td>\n",
              "      <td>113781</td>\n",
              "      <td>4.164734</td>\n",
              "      <td>C22 C26</td>\n",
              "      <td>S</td>\n",
              "      <td>NaN</td>\n",
              "      <td>NaN</td>\n",
              "      <td>Montreal, PQ / Chesterville, ON</td>\n",
              "    </tr>\n",
              "    <tr>\n",
              "      <th>...</th>\n",
              "      <td>...</td>\n",
              "      <td>...</td>\n",
              "      <td>...</td>\n",
              "      <td>...</td>\n",
              "      <td>...</td>\n",
              "      <td>...</td>\n",
              "      <td>...</td>\n",
              "      <td>...</td>\n",
              "      <td>...</td>\n",
              "      <td>...</td>\n",
              "      <td>...</td>\n",
              "      <td>...</td>\n",
              "      <td>...</td>\n",
              "      <td>...</td>\n",
              "    </tr>\n",
              "    <tr>\n",
              "      <th>1304</th>\n",
              "      <td>3</td>\n",
              "      <td>0</td>\n",
              "      <td>Zabour, Miss. Hileni</td>\n",
              "      <td>female</td>\n",
              "      <td>0.054108</td>\n",
              "      <td>1</td>\n",
              "      <td>0</td>\n",
              "      <td>2665</td>\n",
              "      <td>0.047184</td>\n",
              "      <td>NaN</td>\n",
              "      <td>C</td>\n",
              "      <td>NaN</td>\n",
              "      <td>328.0</td>\n",
              "      <td>NaN</td>\n",
              "    </tr>\n",
              "    <tr>\n",
              "      <th>1305</th>\n",
              "      <td>3</td>\n",
              "      <td>0</td>\n",
              "      <td>Zabour, Miss. Thamine</td>\n",
              "      <td>female</td>\n",
              "      <td>0.568852</td>\n",
              "      <td>1</td>\n",
              "      <td>0</td>\n",
              "      <td>2665</td>\n",
              "      <td>0.047184</td>\n",
              "      <td>NaN</td>\n",
              "      <td>C</td>\n",
              "      <td>NaN</td>\n",
              "      <td>NaN</td>\n",
              "      <td>NaN</td>\n",
              "    </tr>\n",
              "    <tr>\n",
              "      <th>1306</th>\n",
              "      <td>3</td>\n",
              "      <td>0</td>\n",
              "      <td>Zakarian, Mr. Mapriededer</td>\n",
              "      <td>male</td>\n",
              "      <td>0.455699</td>\n",
              "      <td>0</td>\n",
              "      <td>0</td>\n",
              "      <td>2656</td>\n",
              "      <td>-0.169939</td>\n",
              "      <td>NaN</td>\n",
              "      <td>C</td>\n",
              "      <td>NaN</td>\n",
              "      <td>304.0</td>\n",
              "      <td>NaN</td>\n",
              "    </tr>\n",
              "    <tr>\n",
              "      <th>1307</th>\n",
              "      <td>3</td>\n",
              "      <td>0</td>\n",
              "      <td>Zakarian, Mr. Ortin</td>\n",
              "      <td>male</td>\n",
              "      <td>0.472432</td>\n",
              "      <td>0</td>\n",
              "      <td>0</td>\n",
              "      <td>2670</td>\n",
              "      <td>-0.169939</td>\n",
              "      <td>NaN</td>\n",
              "      <td>C</td>\n",
              "      <td>NaN</td>\n",
              "      <td>NaN</td>\n",
              "      <td>NaN</td>\n",
              "    </tr>\n",
              "    <tr>\n",
              "      <th>1308</th>\n",
              "      <td>3</td>\n",
              "      <td>0</td>\n",
              "      <td>Zimmerman, Mr. Leo</td>\n",
              "      <td>male</td>\n",
              "      <td>0.539364</td>\n",
              "      <td>0</td>\n",
              "      <td>0</td>\n",
              "      <td>315082</td>\n",
              "      <td>-0.150417</td>\n",
              "      <td>NaN</td>\n",
              "      <td>S</td>\n",
              "      <td>NaN</td>\n",
              "      <td>NaN</td>\n",
              "      <td>NaN</td>\n",
              "    </tr>\n",
              "  </tbody>\n",
              "</table>\n",
              "<p>1309 rows × 14 columns</p>\n",
              "</div>"
            ],
            "text/plain": [
              "      pclass  survived  ...   body                        home.dest\n",
              "0          1         1  ...    NaN                     St Louis, MO\n",
              "1          1         1  ...    NaN  Montreal, PQ / Chesterville, ON\n",
              "2          1         0  ...    NaN  Montreal, PQ / Chesterville, ON\n",
              "3          1         0  ...  135.0  Montreal, PQ / Chesterville, ON\n",
              "4          1         0  ...    NaN  Montreal, PQ / Chesterville, ON\n",
              "...      ...       ...  ...    ...                              ...\n",
              "1304       3         0  ...  328.0                              NaN\n",
              "1305       3         0  ...    NaN                              NaN\n",
              "1306       3         0  ...  304.0                              NaN\n",
              "1307       3         0  ...    NaN                              NaN\n",
              "1308       3         0  ...    NaN                              NaN\n",
              "\n",
              "[1309 rows x 14 columns]"
            ]
          },
          "metadata": {
            "tags": []
          },
          "execution_count": 70
        }
      ]
    },
    {
      "cell_type": "code",
      "metadata": {
        "id": "gtRLW2ZztfT5",
        "colab_type": "code",
        "outputId": "ec943493-a7d9-448d-bc95-4a225dd64cd8",
        "colab": {
          "base_uri": "https://localhost:8080/",
          "height": 34
        }
      },
      "source": [
        "df_new.age.mean()"
      ],
      "execution_count": 0,
      "outputs": [
        {
          "output_type": "execute_result",
          "data": {
            "text/plain": [
              "0.5688519832429724"
            ]
          },
          "metadata": {
            "tags": []
          },
          "execution_count": 71
        }
      ]
    },
    {
      "cell_type": "markdown",
      "metadata": {
        "id": "wB9-5x83mFAO",
        "colab_type": "text"
      },
      "source": [
        "\n",
        "\n",
        "---\n",
        "2. Drop the original age, fare columns\n",
        "3. Append the normalized columns to the titanic_data_new DataFrame.\n",
        "\n",
        "\n",
        "\n",
        "---\n",
        "\n"
      ]
    },
    {
      "cell_type": "code",
      "metadata": {
        "id": "Kb00kM0onQJy",
        "colab_type": "code",
        "colab": {}
      },
      "source": [
        "#done"
      ],
      "execution_count": 0,
      "outputs": []
    },
    {
      "cell_type": "markdown",
      "metadata": {
        "id": "uLxN3PozntKe",
        "colab_type": "text"
      },
      "source": [
        "###Plotting\n",
        "1. plot the age against the ID(continuous)\n",
        "2. plot the fare against the ID(scatter)"
      ]
    },
    {
      "cell_type": "code",
      "metadata": {
        "id": "LdSfNEKYn_RO",
        "colab_type": "code",
        "outputId": "6deb76b0-0f3c-4bec-cbee-5a72aa61d65a",
        "colab": {
          "base_uri": "https://localhost:8080/",
          "height": 282
        }
      },
      "source": [
        "import matplotlib.pyplot as plt\n",
        "\n",
        "# print(len(df.age))\n",
        "\n",
        "\n",
        "list_in = range(0, len(df))\n",
        "# print(len(list_in))\n",
        "df.age.plot()\n",
        "# plt.scatter(df.fare, list_in)"
      ],
      "execution_count": 0,
      "outputs": [
        {
          "output_type": "execute_result",
          "data": {
            "text/plain": [
              "<matplotlib.axes._subplots.AxesSubplot at 0x7fd4bd706b38>"
            ]
          },
          "metadata": {
            "tags": []
          },
          "execution_count": 88
        },
        {
          "output_type": "display_data",
          "data": {
            "image/png": "[encoded data removed]",
            "text/plain": [
              "<Figure size 432x288 with 1 Axes>"
            ]
          },
          "metadata": {
            "tags": [],
            "needs_background": "light"
          }
        }
      ]
    },
    {
      "cell_type": "code",
      "metadata": {
        "id": "v8CZpgxtvsQh",
        "colab_type": "code",
        "outputId": "13d9af99-9f24-4b70-95b1-caa9528a51c0",
        "colab": {
          "base_uri": "https://localhost:8080/",
          "height": 282
        }
      },
      "source": [
        "plt.scatter(list_in,df.fare)\n",
        "# df.fare.plot()"
      ],
      "execution_count": 0,
      "outputs": [
        {
          "output_type": "execute_result",
          "data": {
            "text/plain": [
              "<matplotlib.collections.PathCollection at 0x7fd4bacb8fd0>"
            ]
          },
          "metadata": {
            "tags": []
          },
          "execution_count": 93
        },
        {
          "output_type": "display_data",
          "data": {
            "image/png": "[encoded data removed]",
            "text/plain": [
              "<Figure size 432x288 with 1 Axes>"
            ]
          },
          "metadata": {
            "tags": [],
            "needs_background": "light"
          }
        }
      ]
    },
    {
      "cell_type": "markdown",
      "metadata": {
        "id": "LQr7y6eevTvy",
        "colab_type": "text"
      },
      "source": [
        "## End of Part - 2\n",
        "---"
      ]
    },
    {
      "cell_type": "markdown",
      "metadata": {
        "id": "TWhZcKvfvW2B",
        "colab_type": "text"
      },
      "source": [
        "## Part - 3\n",
        "---"
      ]
    },
    {
      "cell_type": "markdown",
      "metadata": {
        "id": "8bY4H9DszQ2S",
        "colab_type": "text"
      },
      "source": [
        "In this part, you will work with the library ```matplotlib```. Import the ```pyplot``` from ```matplotlib``` with an alias name ```plt```."
      ]
    },
    {
      "cell_type": "code",
      "metadata": {
        "id": "hPN6qctRzknT",
        "colab_type": "code",
        "colab": {}
      },
      "source": [
        "import matplotlib.pyplot as plt\n",
        "import numpy as np\n",
        "from numpy import pi"
      ],
      "execution_count": 0,
      "outputs": []
    },
    {
      "cell_type": "markdown",
      "metadata": {
        "id": "fQ6KX_Aezlub",
        "colab_type": "text"
      },
      "source": [
        "Plot the sine function with domain in $[-3\\pi,3\\pi]$. Label the axes appropriately. Add title $\\sin(x)$. Use latex formatting while adding the title. Set the plot size to (10,10)"
      ]
    },
    {
      "cell_type": "code",
      "metadata": {
        "id": "0tA3J5mA1cQ0",
        "colab_type": "code",
        "outputId": "0664dbdb-aa22-490d-e4e2-c50c168ca0ec",
        "colab": {
          "base_uri": "https://localhost:8080/",
          "height": 696
        }
      },
      "source": [
        "from matplotlib.pyplot import figure\n",
        "figure(num=None, figsize=(10, 10), dpi=80, facecolor='w', edgecolor='k')\n",
        "x = np.linspace(-3*pi, 3*pi, 1000)\n",
        "y = np.sin(x)\n",
        "plt.title((r'plot of $\\sin (x) $'))\n",
        "plt.plot(x,y)\n",
        "plt.xlabel('x', fontsize=18)\n",
        "plt.ylabel('$\\sin(x)$', fontsize=16)\n",
        "plt.show()\n"
      ],
      "execution_count": 0,
      "outputs": [
        {
          "output_type": "display_data",
          "data": {
            "image/png": "[encoded data removed]",
            "text/plain": [
              "<Figure size 800x800 with 1 Axes>"
            ]
          },
          "metadata": {
            "tags": []
          }
        }
      ]
    },
    {
      "cell_type": "markdown",
      "metadata": {
        "id": "6KV7RqMm1d8P",
        "colab_type": "text"
      },
      "source": [
        "Plot $\\sin(x)$ and its spectrum, $\\cos(x)$ and its spectrum in a single plot, in the domain $[-2\\pi,2\\pi]$. Label the plot appropriately."
      ]
    },
    {
      "cell_type": "code",
      "metadata": {
        "id": "-OJuY0HO12Oo",
        "colab_type": "code",
        "outputId": "c3e10519-c492-41fe-e080-1c9f05dad249",
        "colab": {
          "base_uri": "https://localhost:8080/",
          "height": 1000
        }
      },
      "source": [
        "from sympy import fourier_series, pi\n",
        "s = fourier_series(np.sin(x), (x, -2*pi, 2*pi))"
      ],
      "execution_count": 0,
      "outputs": [
        {
          "output_type": "error",
          "ename": "ValueError",
          "evalue": "ignored",
          "traceback": [
            "\u001b[0;31m---------------------------------------------------------------------------\u001b[0m",
            "\u001b[0;31mValueError\u001b[0m                                Traceback (most recent call last)",
            "\u001b[0;32m<ipython-input-25-134e743eb9fa>\u001b[0m in \u001b[0;36m<module>\u001b[0;34m()\u001b[0m\n\u001b[1;32m      1\u001b[0m \u001b[0;32mfrom\u001b[0m \u001b[0msympy\u001b[0m \u001b[0;32mimport\u001b[0m \u001b[0mfourier_series\u001b[0m\u001b[0;34m,\u001b[0m \u001b[0mpi\u001b[0m\u001b[0;34m\u001b[0m\u001b[0;34m\u001b[0m\u001b[0m\n\u001b[0;32m----> 2\u001b[0;31m \u001b[0ms\u001b[0m \u001b[0;34m=\u001b[0m \u001b[0mfourier_series\u001b[0m\u001b[0;34m(\u001b[0m\u001b[0mnp\u001b[0m\u001b[0;34m.\u001b[0m\u001b[0msin\u001b[0m\u001b[0;34m(\u001b[0m\u001b[0mx\u001b[0m\u001b[0;34m)\u001b[0m\u001b[0;34m,\u001b[0m \u001b[0;34m(\u001b[0m\u001b[0mx\u001b[0m\u001b[0;34m,\u001b[0m \u001b[0;34m-\u001b[0m\u001b[0;36m2\u001b[0m\u001b[0;34m*\u001b[0m\u001b[0mpi\u001b[0m\u001b[0;34m,\u001b[0m \u001b[0;36m2\u001b[0m\u001b[0;34m*\u001b[0m\u001b[0mpi\u001b[0m\u001b[0;34m)\u001b[0m\u001b[0;34m)\u001b[0m\u001b[0;34m\u001b[0m\u001b[0;34m\u001b[0m\u001b[0m\n\u001b[0m",
            "\u001b[0;32m/usr/local/lib/python3.6/dist-packages/sympy/series/fourier.py\u001b[0m in \u001b[0;36mfourier_series\u001b[0;34m(f, limits)\u001b[0m\n\u001b[1;32m    465\u001b[0m     \u001b[0mf\u001b[0m \u001b[0;34m=\u001b[0m \u001b[0msympify\u001b[0m\u001b[0;34m(\u001b[0m\u001b[0mf\u001b[0m\u001b[0;34m)\u001b[0m\u001b[0;34m\u001b[0m\u001b[0;34m\u001b[0m\u001b[0m\n\u001b[1;32m    466\u001b[0m \u001b[0;34m\u001b[0m\u001b[0m\n\u001b[0;32m--> 467\u001b[0;31m     \u001b[0mlimits\u001b[0m \u001b[0;34m=\u001b[0m \u001b[0m_process_limits\u001b[0m\u001b[0;34m(\u001b[0m\u001b[0mf\u001b[0m\u001b[0;34m,\u001b[0m \u001b[0mlimits\u001b[0m\u001b[0;34m)\u001b[0m\u001b[0;34m\u001b[0m\u001b[0;34m\u001b[0m\u001b[0m\n\u001b[0m\u001b[1;32m    468\u001b[0m     \u001b[0mx\u001b[0m \u001b[0;34m=\u001b[0m \u001b[0mlimits\u001b[0m\u001b[0;34m[\u001b[0m\u001b[0;36m0\u001b[0m\u001b[0;34m]\u001b[0m\u001b[0;34m\u001b[0m\u001b[0;34m\u001b[0m\u001b[0m\n\u001b[1;32m    469\u001b[0m \u001b[0;34m\u001b[0m\u001b[0m\n",
            "\u001b[0;32m/usr/local/lib/python3.6/dist-packages/sympy/series/fourier.py\u001b[0m in \u001b[0;36m_process_limits\u001b[0;34m(func, limits)\u001b[0m\n\u001b[1;32m     82\u001b[0m \u001b[0;34m\u001b[0m\u001b[0m\n\u001b[1;32m     83\u001b[0m     \u001b[0;32mif\u001b[0m \u001b[0;32mnot\u001b[0m \u001b[0misinstance\u001b[0m\u001b[0;34m(\u001b[0m\u001b[0mx\u001b[0m\u001b[0;34m,\u001b[0m \u001b[0mSymbol\u001b[0m\u001b[0;34m)\u001b[0m \u001b[0;32mor\u001b[0m \u001b[0mstart\u001b[0m \u001b[0;32mis\u001b[0m \u001b[0;32mNone\u001b[0m \u001b[0;32mor\u001b[0m \u001b[0mstop\u001b[0m \u001b[0;32mis\u001b[0m \u001b[0;32mNone\u001b[0m\u001b[0;34m:\u001b[0m\u001b[0;34m\u001b[0m\u001b[0;34m\u001b[0m\u001b[0m\n\u001b[0;32m---> 84\u001b[0;31m         \u001b[0;32mraise\u001b[0m \u001b[0mValueError\u001b[0m\u001b[0;34m(\u001b[0m\u001b[0;34m'Invalid limits given: %s'\u001b[0m \u001b[0;34m%\u001b[0m \u001b[0mstr\u001b[0m\u001b[0;34m(\u001b[0m\u001b[0mlimits\u001b[0m\u001b[0;34m)\u001b[0m\u001b[0;34m)\u001b[0m\u001b[0;34m\u001b[0m\u001b[0;34m\u001b[0m\u001b[0m\n\u001b[0m\u001b[1;32m     85\u001b[0m \u001b[0;34m\u001b[0m\u001b[0m\n\u001b[1;32m     86\u001b[0m     \u001b[0munbounded\u001b[0m \u001b[0;34m=\u001b[0m \u001b[0;34m[\u001b[0m\u001b[0mS\u001b[0m\u001b[0;34m.\u001b[0m\u001b[0mNegativeInfinity\u001b[0m\u001b[0;34m,\u001b[0m \u001b[0mS\u001b[0m\u001b[0;34m.\u001b[0m\u001b[0mInfinity\u001b[0m\u001b[0;34m]\u001b[0m\u001b[0;34m\u001b[0m\u001b[0;34m\u001b[0m\u001b[0m\n",
            "\u001b[0;31mValueError\u001b[0m: Invalid limits given: (array([-9.42477796, -9.40590954, -9.38704111, -9.36817269, -9.34930426,\n       -9.33043584, -9.31156741, -9.29269899, -9.27383057, -9.25496214,\n       -9.23609372, -9.21722529, -9.19835687, -9.17948844, -9.16062002,\n       -9.1417516 , -9.12288317, -9.10401475, -9.08514632, -9.0662779 ,\n       -9.04740947, -9.02854105, -9.00967263, -8.9908042 , -8.97193578,\n       -8.95306735, -8.93419893, -8.9153305 , -8.89646208, -8.87759365,\n       -8.85872523, -8.83985681, -8.82098838, -8.80211996, -8.78325153,\n       -8.76438311, -8.74551468, -8.72664626, -8.70777784, -8.68890941,\n       -8.67004099, -8.65117256, -8.63230414, -8.61343571, -8.59456729,\n       -8.57569887, -8.55683044, -8.53796202, -8.51909359, -8.50022517,\n       -8.48135674, -8.46248832, -8.44361989, -8.42475147, -8.40588305,\n       -8.38701462, -8.3681462 , -8.34927777, -8.33040935, -8.31154092,\n       -8.2926725 , -8.27380408, -8.25493565, -8.23606723, -8.2171988 ,\n       -8.19833038, -8.17946195, -8.16059353, -8.14172511, -8.12285668,\n       -8.10398826, -8.08511983, -8.06625141, -8.04738298, -8.02851456,\n       -8.00964613, -7.99077771, -7.97190929, -7.95304086, -7.93417244,\n       -7.91530401, -7.89643559, -7.87756716, -7.85869874, -7.83983032,\n       -7.82096189, -7.80209347, -7.78322504, -7.76435662, -7.74548819,\n       -7.72661977, -7.70775135, -7.68888292, -7.6700145 , -7.65114607,\n       -7.63227765, -7.61340922, -7.5945408 , -7.57567237, -7.55680395,\n       -7.53793553, -7.5190671 , -7.50019868, -7.48133025, -7.46246183,\n       -7.4435934 , -7.42472498, -7.40585656, -7.38698813, -7.36811971,\n       -7.34925128, -7.33038286, -7.31151443, -7.29264601, -7.27377759,\n       -7.25490916, -7.23604074, -7.21717231, -7.19830389, -7.17943546,\n       -7.16056704, -7.14169861, -7.12283019, -7.10396177, -7.08509334,\n       -7.06622492, -7.04735649, -7.02848807, -7.00961964, -6.99075122,\n       -6.9718828 , -6.95301437, -6.93414595, -6.91527752, -6.8964091 ,\n       -6.87754067, -6.85867225, -6.83980383, -6.8209354 , -6.80206698,\n       -6.78319855, -6.76433013, -6.7454617 , -6.72659328, -6.70772485,\n       -6.68885643, -6.66998801, -6.65111958, -6.63225116, -6.61338273,\n       -6.59451431, -6.57564588, -6.55677746, -6.53790904, -6.51904061,\n       -6.50017219, -6.48130376, -6.46243534, -6.44356691, -6.42469849,\n       -6.40583007, -6.38696164, -6.36809322, -6.34922479, -6.33035637,\n       -6.31148794, -6.29261952, -6.2737511 , -6.25488267, -6.23601425,\n       -6.21714582, -6.1982774 , -6.17940897, -6.16054055, -6.14167212,\n       -6.1228037 , -6.10393528, -6.08506685, -6.06619843, -6.04733   ,\n       -6.02846158, -6.00959315, -5.99072473, -5.97185631, -5.95298788,\n       -5.93411946, -5.91525103, -5.89638261, -5.87751418, -5.85864576,\n       -5.83977734, -5.82090891, -5.80204049, -5.78317206, -5.76430364,\n       -5.74543521, -5.72656679, -5.70769836, -5.68882994, -5.66996152,\n       -5.65109309, -5.63222467, -5.61335624, -5.59448782, -5.57561939,\n       -5.55675097, -5.53788255, -5.51901412, -5.5001457 , -5.48127727,\n       -5.46240885, -5.44354042, -5.424672  , -5.40580358, -5.38693515,\n       -5.36806673, -5.3491983 , -5.33032988, -5.31146145, -5.29259303,\n       -5.2737246 , -5.25485618, -5.23598776, -5.21711933, -5.19825091,\n       -5.17938248, -5.16051406, -5.14164563, -5.12277721, -5.10390879,\n       -5.08504036, -5.06617194, -5.04730351, -5.02843509, -5.00956666,\n       -4.99069824, -4.97182982, -4.95296139, -4.93409297, -4.91522454,\n       -4.89635612, -4.87748769, -4.85861927, -4.83975084, -4.82088242,\n       -4.802014  , -4.78314557, -4.76427715, -4.74540872, -4.7265403 ,\n       -4.70767187, -4.68880345, -4.66993503, -4.6510666 , -4.63219818,\n       -4.61332975, -4.59446133, -4.5755929 , -4.55672448, -4.53785606,\n       -4.51898763, -4.50011921, -4.48125078, -4.46238236, -4.44351393,\n       -4.42464551, -4.40577708, -4.38690866, -4.36804024, -4.34917181,\n       -4.33030339, -4.31143496, -4.29256654, -4.27369811, -4.25482969,\n       -4.23596127, -4.21709284, -4.19822442, -4.17935599, -4.16048757,\n       -4.14161914, -4.12275072, -4.1038823 , -4.08501387, -4.06614545,\n       -4.04727702, -4.0284086 , -4.00954017, -3.99067175, -3.97180332,\n       -3.9529349 , -3.93406648, -3.91519805, -3.89632963, -3.8774612 ,\n       -3.85859278, -3.83972435, -3.82085593, -3.80198751, -3.78311908,\n       -3.76425066, -3.74538223, -3.72651381, -3.70764538, -3.68877696,\n       -3.66990854, -3.65104011, -3.63217169, -3.61330326, -3.59443484,\n       -3.57556641, -3.55669799, -3.53782956, -3.51896114, -3.50009272,\n       -3.48122429, -3.46235587, -3.44348744, -3.42461902, -3.40575059,\n       -3.38688217, -3.36801375, -3.34914532, -3.3302769 , -3.31140847,\n       -3.29254005, -3.27367162, -3.2548032 , -3.23593478, -3.21706635,\n       -3.19819793, -3.1793295 , -3.16046108, -3.14159265, -3.12272423,\n       -3.1038558 , -3.08498738, -3.06611896, -3.04725053, -3.02838211,\n       -3.00951368, -2.99064526, -2.97177683, -2.95290841, -2.93403999,\n       -2.91517156, -2.89630314, -2.87743471, -2.85856629, -2.83969786,\n       -2.82082944, -2.80196102, -2.78309259, -2.76422417, -2.74535574,\n       -2.72648732, -2.70761889, -2.68875047, -2.66988204, -2.65101362,\n       -2.6321452 , -2.61327677, -2.59440835, -2.57553992, -2.5566715 ,\n       -2.53780307, -2.51893465, -2.50006623, -2.4811978 , -2.46232938,\n       -2.44346095, -2.42459253, -2.4057241 , -2.38685568, -2.36798726,\n       -2.34911883, -2.33025041, -2.31138198, -2.29251356, -2.27364513,\n       -2.25477671, -2.23590828, -2.21703986, -2.19817144, -2.17930301,\n       -2.16043459, -2.14156616, -2.12269774, -2.10382931, -2.08496089,\n       -2.06609247, -2.04722404, -2.02835562, -2.00948719, -1.99061877,\n       -1.97175034, -1.95288192, -1.9340135 , -1.91514507, -1.89627665,\n       -1.87740822, -1.8585398 , -1.83967137, -1.82080295, -1.80193453,\n       -1.7830661 , -1.76419768, -1.74532925, -1.72646083, -1.7075924 ,\n       -1.68872398, -1.66985555, -1.65098713, -1.63211871, -1.61325028,\n       -1.59438186, -1.57551343, -1.55664501, -1.53777658, -1.51890816,\n       -1.50003974, -1.48117131, -1.46230289, -1.44343446, -1.42456604,\n       -1.40569761, -1.38682919, -1.36796077, -1.34909234, -1.33022392,\n       -1.31135549, -1.29248707, -1.27361864, -1.25475022, -1.23588179,\n       -1.21701337, -1.19814495, -1.17927652, -1.1604081 , -1.14153967,\n       -1.12267125, -1.10380282, -1.0849344 , -1.06606598, -1.04719755,\n       -1.02832913, -1.0094607 , -0.99059228, -0.97172385, -0.95285543,\n       -0.93398701, -0.91511858, -0.89625016, -0.87738173, -0.85851331,\n       -0.83964488, -0.82077646, -0.80190803, -0.78303961, -0.76417119,\n       -0.74530276, -0.72643434, -0.70756591, -0.68869749, -0.66982906,\n       -0.65096064, -0.63209222, -0.61322379, -0.59435537, -0.57548694,\n       -0.55661852, -0.53775009, -0.51888167, -0.50001325, -0.48114482,\n       -0.4622764 , -0.44340797, -0.42453955, -0.40567112, -0.3868027 ,\n       -0.36793427, -0.34906585, -0.33019743, -0.311329  , -0.29246058,\n       -0.27359215, -0.25472373, -0.2358553 , -0.21698688, -0.19811846,\n       -0.17925003, -0.16038161, -0.14151318, -0.12264476, -0.10377633,\n       -0.08490791, -0.06603949, -0.04717106, -0.02830264, -0.00943421,\n        0.00943421,  0.02830264,  0.04717106,  0.06603949,  0.08490791,\n        0.10377633,  0.12264476,  0.14151318,  0.16038161,  0.17925003,\n        0.19811846,  0.21698688,  0.2358553 ,  0.25472373,  0.27359215,\n        0.29246058,  0.311329  ,  0.33019743,  0.34906585,  0.36793427,\n        0.3868027 ,  0.40567112,  0.42453955,  0.44340797,  0.4622764 ,\n        0.48114482,  0.50001325,  0.51888167,  0.53775009,  0.55661852,\n        0.57548694,  0.59435537,  0.61322379,  0.63209222,  0.65096064,\n        0.66982906,  0.68869749,  0.70756591,  0.72643434,  0.74530276,\n        0.76417119,  0.78303961,  0.80190803,  0.82077646,  0.83964488,\n        0.85851331,  0.87738173,  0.89625016,  0.91511858,  0.93398701,\n        0.95285543,  0.97172385,  0.99059228,  1.0094607 ,  1.02832913,\n        1.04719755,  1.06606598,  1.0849344 ,  1.10380282,  1.12267125,\n        1.14153967,  1.1604081 ,  1.17927652,  1.19814495,  1.21701337,\n        1.23588179,  1.25475022,  1.27361864,  1.29248707,  1.31135549,\n        1.33022392,  1.34909234,  1.36796077,  1.38682919,  1.40569761,\n        1.42456604,  1.44343446,  1.46230289,  1.48117131,  1.50003974,\n        1.51890816,  1.53777658,  1.55664501,  1.57551343,  1.59438186,\n        1.61325028,  1.63211871,  1.65098713,  1.66985555,  1.68872398,\n        1.7075924 ,  1.72646083,  1.74532925,  1.76419768,  1.7830661 ,\n        1.80193453,  1.82080295,  1.83967137,  1.8585398 ,  1.87740822,\n        1.89627665,  1.91514507,  1.9340135 ,  1.95288192,  1.97175034,\n        1.99061877,  2.00948719,  2.02835562,  2.04722404,  2.06609247,\n        2.08496089,  2.10382931,  2.12269774,  2.14156616,  2.16043459,\n        2.17930301,  2.19817144,  2.21703986,  2.23590828,  2.25477671,\n        2.27364513,  2.29251356,  2.31138198,  2.33025041,  2.34911883,\n        2.36798726,  2.38685568,  2.4057241 ,  2.42459253,  2.44346095,\n        2.46232938,  2.4811978 ,  2.50006623,  2.51893465,  2.53780307,\n        2.5566715 ,  2.57553992,  2.59440835,  2.61327677,  2.6321452 ,\n        2.65101362,  2.66988204,  2.68875047,  2.70761889,  2.72648732,\n        2.74535574,  2.76422417,  2.78309259,  2.80196102,  2.82082944,\n        2.83969786,  2.85856629,  2.87743471,  2.89630314,  2.91517156,\n        2.93403999,  2.95290841,  2.97177683,  2.99064526,  3.00951368,\n        3.02838211,  3.04725053,  3.06611896,  3.08498738,  3.1038558 ,\n        3.12272423,  3.14159265,  3.16046108,  3.1793295 ,  3.19819793,\n        3.21706635,  3.23593478,  3.2548032 ,  3.27367162,  3.29254005,\n        3.31140847,  3.3302769 ,  3.34914532,  3.36801375,  3.38688217,\n        3.40575059,  3.42461902,  3.44348744,  3.46235587,  3.48122429,\n        3.50009272,  3.51896114,  3.53782956,  3.55669799,  3.57556641,\n        3.59443484,  3.61330326,  3.63217169,  3.65104011,  3.66990854,\n        3.68877696,  3.70764538,  3.72651381,  3.74538223,  3.76425066,\n        3.78311908,  3.80198751,  3.82085593,  3.83972435,  3.85859278,\n        3.8774612 ,  3.89632963,  3.91519805,  3.93406648,  3.9529349 ,\n        3.97180332,  3.99067175,  4.00954017,  4.0284086 ,  4.04727702,\n        4.06614545,  4.08501387,  4.1038823 ,  4.12275072,  4.14161914,\n        4.16048757,  4.17935599,  4.19822442,  4.21709284,  4.23596127,\n        4.25482969,  4.27369811,  4.29256654,  4.31143496,  4.33030339,\n        4.34917181,  4.36804024,  4.38690866,  4.40577708,  4.42464551,\n        4.44351393,  4.46238236,  4.48125078,  4.50011921,  4.51898763,\n        4.53785606,  4.55672448,  4.5755929 ,  4.59446133,  4.61332975,\n        4.63219818,  4.6510666 ,  4.66993503,  4.68880345,  4.70767187,\n        4.7265403 ,  4.74540872,  4.76427715,  4.78314557,  4.802014  ,\n        4.82088242,  4.83975084,  4.85861927,  4.87748769,  4.89635612,\n        4.91522454,  4.93409297,  4.95296139,  4.97182982,  4.99069824,\n        5.00956666,  5.02843509,  5.04730351,  5.06617194,  5.08504036,\n        5.10390879,  5.12277721,  5.14164563,  5.16051406,  5.17938248,\n        5.19825091,  5.21711933,  5.23598776,  5.25485618,  5.2737246 ,\n        5.29259303,  5.31146145,  5.33032988,  5.3491983 ,  5.36806673,\n        5.38693515,  5.40580358,  5.424672  ,  5.44354042,  5.46240885,\n        5.48127727,  5.5001457 ,  5.51901412,  5.53788255,  5.55675097,\n        5.57561939,  5.59448782,  5.61335624,  5.63222467,  5.65109309,\n        5.66996152,  5.68882994,  5.70769836,  5.72656679,  5.74543521,\n        5.76430364,  5.78317206,  5.80204049,  5.82090891,  5.83977734,\n        5.85864576,  5.87751418,  5.89638261,  5.91525103,  5.93411946,\n        5.95298788,  5.97185631,  5.99072473,  6.00959315,  6.02846158,\n        6.04733   ,  6.06619843,  6.08506685,  6.10393528,  6.1228037 ,\n        6.14167212,  6.16054055,  6.17940897,  6.1982774 ,  6.21714582,\n        6.23601425,  6.25488267,  6.2737511 ,  6.29261952,  6.31148794,\n        6.33035637,  6.34922479,  6.36809322,  6.38696164,  6.40583007,\n        6.42469849,  6.44356691,  6.46243534,  6.48130376,  6.50017219,\n        6.51904061,  6.53790904,  6.55677746,  6.57564588,  6.59451431,\n        6.61338273,  6.63225116,  6.65111958,  6.66998801,  6.68885643,\n        6.70772485,  6.72659328,  6.7454617 ,  6.76433013,  6.78319855,\n        6.80206698,  6.8209354 ,  6.83980383,  6.85867225,  6.87754067,\n        6.8964091 ,  6.91527752,  6.93414595,  6.95301437,  6.9718828 ,\n        6.99075122,  7.00961964,  7.02848807,  7.04735649,  7.06622492,\n        7.08509334,  7.10396177,  7.12283019,  7.14169861,  7.16056704,\n        7.17943546,  7.19830389,  7.21717231,  7.23604074,  7.25490916,\n        7.27377759,  7.29264601,  7.31151443,  7.33038286,  7.34925128,\n        7.36811971,  7.38698813,  7.40585656,  7.42472498,  7.4435934 ,\n        7.46246183,  7.48133025,  7.50019868,  7.5190671 ,  7.53793553,\n        7.55680395,  7.57567237,  7.5945408 ,  7.61340922,  7.63227765,\n        7.65114607,  7.6700145 ,  7.68888292,  7.70775135,  7.72661977,\n        7.74548819,  7.76435662,  7.78322504,  7.80209347,  7.82096189,\n        7.83983032,  7.85869874,  7.87756716,  7.89643559,  7.91530401,\n        7.93417244,  7.95304086,  7.97190929,  7.99077771,  8.00964613,\n        8.02851456,  8.04738298,  8.06625141,  8.08511983,  8.10398826,\n        8.12285668,  8.14172511,  8.16059353,  8.17946195,  8.19833038,\n        8.2171988 ,  8.23606723,  8.25493565,  8.27380408,  8.2926725 ,\n        8.31154092,  8.33040935,  8.34927777,  8.3681462 ,  8.38701462,\n        8.40588305,  8.42475147,  8.44361989,  8.46248832,  8.48135674,\n        8.50022517,  8.51909359,  8.53796202,  8.55683044,  8.57569887,\n        8.59456729,  8.61343571,  8.63230414,  8.65117256,  8.67004099,\n        8.68890941,  8.70777784,  8.72664626,  8.74551468,  8.76438311,\n        8.78325153,  8.80211996,  8.82098838,  8.83985681,  8.85872523,\n        8.87759365,  8.89646208,  8.9153305 ,  8.93419893,  8.95306735,\n        8.97193578,  8.9908042 ,  9.00967263,  9.02854105,  9.04740947,\n        9.0662779 ,  9.08514632,  9.10401475,  9.12288317,  9.1417516 ,\n        9.16062002,  9.17948844,  9.19835687,  9.21722529,  9.23609372,\n        9.25496214,  9.27383057,  9.29269899,  9.31156741,  9.33043584,\n        9.34930426,  9.36817269,  9.38704111,  9.40590954,  9.42477796]), -2*pi, 2*pi)"
          ]
        }
      ]
    },
    {
      "cell_type": "markdown",
      "metadata": {
        "id": "1S6ZRm6B18ZF",
        "colab_type": "text"
      },
      "source": [
        "## End of Part - 3\n",
        "---"
      ]
    },
    {
      "cell_type": "markdown",
      "metadata": {
        "id": "MUucpzXBl096",
        "colab_type": "text"
      },
      "source": [
        "Create a Github repository with the name ***SHALA2020*** and save this assignment there."
      ]
    }
  ]
}